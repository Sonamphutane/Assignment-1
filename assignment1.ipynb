{
  "nbformat": 4,
  "nbformat_minor": 0,
  "metadata": {
    "colab": {
      "provenance": []
    },
    "kernelspec": {
      "name": "python3",
      "display_name": "Python 3"
    },
    "language_info": {
      "name": "python"
    }
  },
  "cells": [
    {
      "cell_type": "code",
      "execution_count": null,
      "metadata": {
        "colab": {
          "base_uri": "https://localhost:8080/"
        },
        "id": "Jcl-zTDAjV8T",
        "outputId": "2c9b0a11-7f22-4624-d5a6-acfe202261fb"
      },
      "outputs": [
        {
          "output_type": "stream",
          "name": "stdout",
          "text": [
            "[2, 4, 6, 8]\n"
          ]
        }
      ],
      "source": [
        "# Double all numbers using map and lambda\n",
        "nums = (1, 2, 3, 4)\n",
        "result= map(lambda x: x + x, nums)\n",
        "print(list(result))"
      ]
    },
    {
      "cell_type": "code",
      "source": [
        "# get cube of numbers using map and lambda\n",
        "result=map(lambda n:n**3,nums)\n",
        "print(tuple(result))"
      ],
      "metadata": {
        "colab": {
          "base_uri": "https://localhost:8080/"
        },
        "id": "jHDPe9wIjmu4",
        "outputId": "fa2ce927-24f1-43f7-9444-4ac681a40176"
      },
      "execution_count": null,
      "outputs": [
        {
          "output_type": "stream",
          "name": "stdout",
          "text": [
            "(1, 8, 27, 64)\n"
          ]
        }
      ]
    },
    {
      "cell_type": "code",
      "source": [
        "# Add two lists using map and lambda\n",
        "val1 = [1, 2, 3]\n",
        "val2 = [4, 5, 6]\n",
        "result = map(lambda x, y: x + y, val1, val2)\n",
        "print(list(result))"
      ],
      "metadata": {
        "colab": {
          "base_uri": "https://localhost:8080/"
        },
        "id": "AJ6ic_ZqkCsG",
        "outputId": "c6869f61-3eea-4fab-8705-fd3630869370"
      },
      "execution_count": null,
      "outputs": [
        {
          "output_type": "stream",
          "name": "stdout",
          "text": [
            "[5, 7, 9]\n"
          ]
        }
      ]
    },
    {
      "cell_type": "code",
      "source": [
        "def calculate(number_1, number_2, operator):\n",
        "    if operator == '+':\n",
        "        return number_1 + number_2\n",
        "    elif operator == '-':\n",
        "        return number_1 - number_2\n",
        "    elif operator == '*':\n",
        "        return number_1 * number_2\n",
        "    elif operator == '/':\n",
        "        if number_2 != 0:\n",
        "            return number_1 / number_2\n",
        "        else:\n",
        "            return \"Error\"\n",
        "    else:\n",
        "        return \"Error: Invalid operator\"\n",
        "\n",
        "\n",
        "result = calculate(3, 4, '+')\n",
        "result"
      ],
      "metadata": {
        "id": "Yvz_IgfnEpI5"
      },
      "execution_count": null,
      "outputs": []
    }
  ]
}
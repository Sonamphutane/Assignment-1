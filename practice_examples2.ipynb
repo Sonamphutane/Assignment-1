{
  "nbformat": 4,
  "nbformat_minor": 0,
  "metadata": {
    "colab": {
      "provenance": []
    },
    "kernelspec": {
      "name": "python3",
      "display_name": "Python 3"
    },
    "language_info": {
      "name": "python"
    }
  },
  "cells": [
    {
      "cell_type": "code",
      "execution_count": null,
      "metadata": {
        "colab": {
          "base_uri": "https://localhost:8080/"
        },
        "id": "QH47V_50enV8",
        "outputId": "c17d9778-17c6-4412-a5f0-875880df779d"
      },
      "outputs": [
        {
          "output_type": "stream",
          "name": "stdout",
          "text": [
            "a: 3\n",
            "b: 5\n",
            "value of a after swapping:5\n",
            "value of b after swapping:3\n"
          ]
        }
      ],
      "source": [
        "#swap two variables\n",
        "\n",
        "a=b\n",
        "x=int(input('a: '))\n",
        "y=int(input('b: '))\n",
        "print('value of a after swapping:{}'.format(y))\n",
        "print('value of b after swapping:{}'.format(x))"
      ]
    },
    {
      "cell_type": "code",
      "source": [
        "#swap two variables\n",
        "P=int(input('Value for P:'))\n",
        "Q=int(input('Value for Q:'))\n",
        "C=P\n",
        "P=Q\n",
        "Q=C\n",
        "a=print('value of P after swap is ',P)\n",
        "b=print('value of Q after swap is ',Q)\n",
        "\n"
      ],
      "metadata": {
        "colab": {
          "base_uri": "https://localhost:8080/"
        },
        "id": "ne8VS53Bk8My",
        "outputId": "34bf30b2-3ad8-4b3f-dcff-afeafa27f7be"
      },
      "execution_count": null,
      "outputs": [
        {
          "output_type": "stream",
          "name": "stdout",
          "text": [
            "Value for P:1\n",
            "Value for Q:4\n",
            "value of P after swap is  4\n",
            "value of Q after swap is  1\n"
          ]
        }
      ]
    },
    {
      "cell_type": "code",
      "source": [
        "#even or odd\n",
        "a=int(input('a: '))\n",
        "if(a % 2)==0:\n",
        "      print('{0} is an even no.'.format(a))\n",
        "else:\n",
        "      print('{0} is an odd no.'.format(a))"
      ],
      "metadata": {
        "colab": {
          "base_uri": "https://localhost:8080/"
        },
        "id": "h4dO5ezBmTEq",
        "outputId": "9af3eaf6-3c84-4c2f-ad56-afb4c1064b17"
      },
      "execution_count": null,
      "outputs": [
        {
          "output_type": "stream",
          "name": "stdout",
          "text": [
            "a: 754543658\n",
            "754543658 is an even no.\n"
          ]
        }
      ]
    }
  ]
}
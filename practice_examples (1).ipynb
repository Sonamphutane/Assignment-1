{
  "nbformat": 4,
  "nbformat_minor": 0,
  "metadata": {
    "colab": {
      "provenance": []
    },
    "kernelspec": {
      "name": "python3",
      "display_name": "Python 3"
    },
    "language_info": {
      "name": "python"
    }
  },
  "cells": [
    {
      "cell_type": "code",
      "execution_count": null,
      "metadata": {
        "colab": {
          "base_uri": "https://localhost:8080/"
        },
        "id": "XktaawUxG-if",
        "outputId": "0a9eb5c3-eb7e-463d-ddac-e66416135bbf"
      },
      "outputs": [
        {
          "output_type": "stream",
          "name": "stdout",
          "text": [
            "kilometers: 21.3\n",
            "13.2273 in miles\n"
          ]
        }
      ],
      "source": [
        "#kms to miles\n",
        "c=float(input('kilometers: '))\n",
        "print(c*0.621,'in miles')"
      ]
    },
    {
      "cell_type": "code",
      "source": [
        "#convert celsius to fahrenheit\n",
        "c=float(input('Temperature in celsius: '))\n",
        "print(c*1.8+32,'degrees in fahrenheit')"
      ],
      "metadata": {
        "colab": {
          "base_uri": "https://localhost:8080/"
        },
        "id": "ghhawl3iItA8",
        "outputId": "44d0d988-c56f-4f27-dde8-14071446afb5"
      },
      "execution_count": null,
      "outputs": [
        {
          "output_type": "stream",
          "name": "stdout",
          "text": [
            "Temperature in celsius: 30.33\n",
            "86.594 degrees in fahrenheit\n"
          ]
        }
      ]
    },
    {
      "cell_type": "code",
      "source": [
        "#positive ,negative no. or\n",
        "c=int(input('number: '))\n",
        "if c<0:\n",
        "    print('negative no')\n",
        "elif c>0:\n",
        "    print('positive no')\n",
        "elif c==0:\n",
        "    print('zero')\n"
      ],
      "metadata": {
        "colab": {
          "base_uri": "https://localhost:8080/"
        },
        "id": "WMDZsk8aKWXZ",
        "outputId": "e9a75e39-69c9-4d58-925c-97da0bc602ef"
      },
      "execution_count": null,
      "outputs": [
        {
          "output_type": "stream",
          "name": "stdout",
          "text": [
            "number: 0\n",
            "zero\n"
          ]
        }
      ]
    },
    {
      "cell_type": "code",
      "source": [
        "#to check leap year\n",
        "c=int(input('year?: '))\n",
        "if c%4==0:\n",
        "      print('leap year')\n",
        "else:\n",
        "      print('not a leap year')\n"
      ],
      "metadata": {
        "colab": {
          "base_uri": "https://localhost:8080/"
        },
        "id": "GWAmkJqaOBlr",
        "outputId": "4d024cbb-8041-4e29-a6dc-3b80813a1914"
      },
      "execution_count": null,
      "outputs": [
        {
          "output_type": "stream",
          "name": "stdout",
          "text": [
            "year?: 2012\n",
            "leap year\n"
          ]
        }
      ]
    },
    {
      "cell_type": "code",
      "source": [
        "#largest among the three\n",
        "a=180\n",
        "b=8900\n",
        "c=1659\n",
        "if((a>b)and(a>c)):\n",
        "    print(a)\n",
        "elif((b>a)and(b>c)):\n",
        "    print(b)\n",
        "else:\n",
        "    print(c)\n",
        "\n"
      ],
      "metadata": {
        "colab": {
          "base_uri": "https://localhost:8080/"
        },
        "id": "7gPb-A8OPYDo",
        "outputId": "232bdc29-d975-4fd1-ef8e-391f0098c744"
      },
      "execution_count": null,
      "outputs": [
        {
          "output_type": "stream",
          "name": "stdout",
          "text": [
            "8900\n"
          ]
        }
      ]
    },
    {
      "cell_type": "code",
      "source": [
        "#multiplication table of 2\n",
        "num=2\n",
        "for i in range(1,11):\n",
        "  print(num,'x',i,'=', num*i)"
      ],
      "metadata": {
        "colab": {
          "base_uri": "https://localhost:8080/"
        },
        "id": "iX5iFnTUTRzj",
        "outputId": "97f4b7cc-5f59-40f3-a6b2-4e65617e9c31"
      },
      "execution_count": null,
      "outputs": [
        {
          "output_type": "stream",
          "name": "stdout",
          "text": [
            "2 x 1 = 2\n",
            "2 x 2 = 4\n",
            "2 x 3 = 6\n",
            "2 x 4 = 8\n",
            "2 x 5 = 10\n",
            "2 x 6 = 12\n",
            "2 x 7 = 14\n",
            "2 x 8 = 16\n",
            "2 x 9 = 18\n",
            "2 x 10 = 20\n"
          ]
        }
      ]
    },
    {
      "cell_type": "code",
      "source": [
        "#calendar\n",
        "import calendar\n",
        "yy=2024\n",
        "mm=3\n",
        "print(calendar.month(yy,mm))"
      ],
      "metadata": {
        "colab": {
          "base_uri": "https://localhost:8080/"
        },
        "id": "2dT_bjDDUUNY",
        "outputId": "a6c05e9e-83a9-49dc-aedb-481086dc4f56"
      },
      "execution_count": null,
      "outputs": [
        {
          "output_type": "stream",
          "name": "stdout",
          "text": [
            "     March 2024\n",
            "Mo Tu We Th Fr Sa Su\n",
            "             1  2  3\n",
            " 4  5  6  7  8  9 10\n",
            "11 12 13 14 15 16 17\n",
            "18 19 20 21 22 23 24\n",
            "25 26 27 28 29 30 31\n",
            "\n"
          ]
        }
      ]
    },
    {
      "cell_type": "code",
      "source": [
        "#reverse a no.\n",
        "a=23\n",
        "revno=0\n",
        "while num"
      ],
      "metadata": {
        "id": "MmUht7VfV5GX"
      },
      "execution_count": null,
      "outputs": []
    }
  ]
}
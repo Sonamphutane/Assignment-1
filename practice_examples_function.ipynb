{
  "nbformat": 4,
  "nbformat_minor": 0,
  "metadata": {
    "colab": {
      "provenance": []
    },
    "kernelspec": {
      "name": "python3",
      "display_name": "Python 3"
    },
    "language_info": {
      "name": "python"
    }
  },
  "cells": [
    {
      "cell_type": "code",
      "execution_count": null,
      "metadata": {
        "colab": {
          "base_uri": "https://localhost:8080/"
        },
        "id": "xs7dAKqnhn5o",
        "outputId": "8ca591ef-0846-4bec-ae37-415311f6cc82"
      },
      "outputs": [
        {
          "output_type": "stream",
          "name": "stdout",
          "text": [
            "no.1 4\n",
            "no.2 6\n",
            "no.3 2\n",
            "4.0\n"
          ]
        }
      ],
      "source": [
        "a=int(input(\"no.1 \"))\n",
        "b=int(input(\"no.2 \"))\n",
        "c=int(input(\"no.3 \"))\n",
        "def average(a,b,c):\n",
        "  S=(a+b+c)/3\n",
        "  return S\n",
        "\n",
        "print(average(a,b,c))"
      ]
    },
    {
      "cell_type": "code",
      "source": [
        "Family=[\"man\",\"woman\",\"boy\",\"girl\"]\n",
        "\n",
        "def output(list):\n",
        "    S=print(list)\n",
        "    return S\n",
        "print(output(Family))"
      ],
      "metadata": {
        "colab": {
          "base_uri": "https://localhost:8080/"
        },
        "id": "lrXCR-usnPai",
        "outputId": "39bbc035-08e6-42fe-d906-e15476ed4116"
      },
      "execution_count": 1,
      "outputs": [
        {
          "output_type": "stream",
          "name": "stdout",
          "text": [
            "['man', 'woman', 'boy', 'girl']\n",
            "None\n"
          ]
        }
      ]
    },
    {
      "cell_type": "code",
      "source": [
        "def N(a):\n",
        "    if a%2==0:\n",
        "        print(a,\"is an even no\")\n",
        "    else:\n",
        "        print(a,\"is an odd no\")\n",
        "N(81)"
      ],
      "metadata": {
        "colab": {
          "base_uri": "https://localhost:8080/"
        },
        "id": "3SzW7pN7ctvz",
        "outputId": "e84bf43c-daa2-4cb1-b9b1-4fae5dd3ef4c"
      },
      "execution_count": null,
      "outputs": [
        {
          "output_type": "stream",
          "name": "stdout",
          "text": [
            "81 is an odd no\n"
          ]
        }
      ]
    },
    {
      "cell_type": "code",
      "source": [
        "def factorial(n):\n",
        "    i=n-1\n",
        "    while i==1\n",
        "    a=n*i"
      ],
      "metadata": {
        "id": "Snwwa0sbs4uv"
      },
      "execution_count": null,
      "outputs": []
    },
    {
      "cell_type": "code",
      "source": [
        "def currency(a):\n",
        "    a*=83.44\n",
        "    return a\n",
        "print(currency (3),\"$ in Indian rupees \")"
      ],
      "metadata": {
        "colab": {
          "base_uri": "https://localhost:8080/"
        },
        "id": "T4Y7dqwUu3GH",
        "outputId": "fe70e5dc-105d-4c8e-c7fe-ad805e4bd4f2"
      },
      "execution_count": null,
      "outputs": [
        {
          "output_type": "stream",
          "name": "stdout",
          "text": [
            "250.32 $ in Indian rupees \n"
          ]
        }
      ]
    }
  ]
}
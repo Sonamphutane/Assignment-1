{
  "nbformat": 4,
  "nbformat_minor": 0,
  "metadata": {
    "colab": {
      "provenance": []
    },
    "kernelspec": {
      "name": "python3",
      "display_name": "Python 3"
    },
    "language_info": {
      "name": "python"
    }
  },
  "cells": [
    {
      "cell_type": "code",
      "source": [
        "#Q4\n",
        "a=int(input(\"Enter your Age: \"))\n",
        "if a>=18:\n",
        "  print('eligible for voting')\n",
        "else:\n",
        "  print('not eligible')"
      ],
      "metadata": {
        "colab": {
          "base_uri": "https://localhost:8080/"
        },
        "id": "1CqBJ7vydxo5",
        "outputId": "2fb8391e-5e3f-4a64-c091-9d04cf4881ae"
      },
      "execution_count": null,
      "outputs": [
        {
          "output_type": "stream",
          "name": "stdout",
          "text": [
            "Enter your Age: 17\n",
            "not eligible\n"
          ]
        }
      ]
    },
    {
      "cell_type": "code",
      "source": [
        "#Q5\n",
        "a=int(input('Enter a number: '))\n",
        "if a%2==0:\n",
        "  print('even no')\n",
        "else:\n",
        "  print('odd no')"
      ],
      "metadata": {
        "colab": {
          "base_uri": "https://localhost:8080/"
        },
        "id": "4QwtXHVXmeLP",
        "outputId": "15363f37-d5ac-4f30-a6df-f6b33c77160a"
      },
      "execution_count": null,
      "outputs": [
        {
          "output_type": "stream",
          "name": "stdout",
          "text": [
            "Enter a number: 2\n",
            "even no\n"
          ]
        }
      ]
    },
    {
      "cell_type": "code",
      "source": [
        "#q6\n",
        "a=34\n",
        "if a%7==0:\n",
        " print(a,'is divisible by 7')\n",
        "else:\n",
        "  print(a,'is not divisible by 7')"
      ],
      "metadata": {
        "colab": {
          "base_uri": "https://localhost:8080/"
        },
        "id": "qo9GpxXfoUru",
        "outputId": "bbd986d5-8f88-4a56-902f-1db312829619"
      },
      "execution_count": null,
      "outputs": [
        {
          "output_type": "stream",
          "name": "stdout",
          "text": [
            "34 is not divisible by 7\n"
          ]
        }
      ]
    },
    {
      "cell_type": "code",
      "source": [
        "#Q7\n",
        "a=int(input('enter a value:'))\n",
        "if a%5==0:\n",
        "  print('hello')\n",
        "else:\n",
        "  print(\"bye\")"
      ],
      "metadata": {
        "colab": {
          "base_uri": "https://localhost:8080/"
        },
        "id": "pidlgiRtCkQ_",
        "outputId": "2f3775c0-d5cc-4995-b290-11a8258a51ae"
      },
      "execution_count": null,
      "outputs": [
        {
          "output_type": "stream",
          "name": "stdout",
          "text": [
            "enter a value:34\n",
            "bye\n"
          ]
        }
      ]
    },
    {
      "cell_type": "code",
      "source": [
        "#Q8\n",
        "a=8786578\n",
        "b=a%10\n",
        "print(b)"
      ],
      "metadata": {
        "colab": {
          "base_uri": "https://localhost:8080/"
        },
        "id": "sLDqgKNDDMro",
        "outputId": "71751ff2-dc5f-4802-d40b-51ac95a2db28"
      },
      "execution_count": null,
      "outputs": [
        {
          "output_type": "stream",
          "name": "stdout",
          "text": [
            "8\n"
          ]
        }
      ]
    },
    {
      "cell_type": "code",
      "source": [
        "#q9\n",
        "a=int(input('enter a value:'))\n",
        "b=a%10\n",
        "if b%3==0:\n",
        "  print(b,\"is divisible by 3\")\n",
        "else:\n",
        "  print(b,\"is not divisible by 3\")\n"
      ],
      "metadata": {
        "colab": {
          "base_uri": "https://localhost:8080/"
        },
        "id": "K28GKTsVD6By",
        "outputId": "ddf6c1dc-1e65-46e2-9e1d-a412d98aa63f"
      },
      "execution_count": null,
      "outputs": [
        {
          "output_type": "stream",
          "name": "stdout",
          "text": [
            "enter a value:9897\n",
            "7 is not divisible by 3\n"
          ]
        }
      ]
    },
    {
      "cell_type": "code",
      "source": [
        "#11\n",
        "a=int(input('enter percentage:'))\n",
        "if a>90:\n",
        "  print(\"grade A\")\n",
        "elif a>80 and a<=90:\n",
        "  print(\"grade B\")\n",
        "elif a>=60 and a<=80:\n",
        "  print(\"grade C\")\n",
        "else:\n",
        "  print(\"grade D\")"
      ],
      "metadata": {
        "colab": {
          "base_uri": "https://localhost:8080/"
        },
        "id": "zOWBWcN1E1Qb",
        "outputId": "e6ba04ac-7b16-4067-d9d5-07a30dc8aa42"
      },
      "execution_count": null,
      "outputs": [
        {
          "output_type": "stream",
          "name": "stdout",
          "text": [
            "enter percentage:23\n",
            "grade D\n"
          ]
        }
      ]
    },
    {
      "cell_type": "code",
      "source": [
        "#Q12\n",
        "a=2024\n",
        "if a%4==0:\n",
        "  print('leap year')\n",
        "else:\n",
        "  print('not a leap year')"
      ],
      "metadata": {
        "colab": {
          "base_uri": "https://localhost:8080/"
        },
        "id": "nOl8vXy1GYyO",
        "outputId": "60c13ea7-3b69-41ce-dfe5-1e416552e160"
      },
      "execution_count": null,
      "outputs": [
        {
          "output_type": "stream",
          "name": "stdout",
          "text": [
            "leap year\n"
          ]
        }
      ]
    },
    {
      "cell_type": "code",
      "source": [
        "#Q13\n",
        "a=int(input('enter a value:'))\n",
        "if a==1:\n",
        "  print('sunday')\n",
        "elif a==2:\n",
        "  print('monday')\n",
        "elif a==3:\n",
        "  print('tuesday')\n",
        "elif a==4:\n",
        "  print('wednesday')\n",
        "elif a==5:\n",
        "  print('thursday')\n",
        "elif a==6:\n",
        "  print('friday')\n",
        "elif a==7:\n",
        "  print('saturday')\n"
      ],
      "metadata": {
        "colab": {
          "base_uri": "https://localhost:8080/"
        },
        "id": "ydG0YVISHT9F",
        "outputId": "6d00dcb6-3c2b-4c35-c476-a778f37e9b37"
      },
      "execution_count": null,
      "outputs": [
        {
          "output_type": "stream",
          "name": "stdout",
          "text": [
            "enter a value:6\n",
            "friday\n"
          ]
        }
      ]
    },
    {
      "cell_type": "code",
      "source": [
        "#q14\n",
        "a=int(input('enter a value:'))\n",
        "if a==1:\n",
        "  print('january')\n",
        "  print('no of days 31')\n",
        "elif a==2:\n",
        "  print('february')\n",
        "  print('no of days 28')\n",
        "elif a==3:\n",
        "  print('march')\n",
        "  print('no of days 31')\n",
        "elif a==4:\n",
        "  print('april')\n",
        "  print('no of days 30')\n",
        "elif a==5:\n",
        "  print('may')\n",
        "  print('no of days 31')\n",
        "elif a==6:\n",
        "  print('june')\n",
        "  print('no of days 30')\n",
        "elif a==7:\n",
        "  print('july')\n",
        "  print('no of days 31')\n",
        "elif a==8:\n",
        "  print('august')\n",
        "  print('no of days 31')\n",
        "elif a==9:\n",
        "  print('septembr')\n",
        "  print('no of days 30')\n",
        "elif a==10:\n",
        "  print('october')\n",
        "  print('no of days 31')\n",
        "elif a==11:\n",
        "  print('november')\n",
        "  print('no of days 30')\n",
        "elif a==12:\n",
        "  print('december')\n",
        "  print('no of days 31')"
      ],
      "metadata": {
        "colab": {
          "base_uri": "https://localhost:8080/"
        },
        "id": "_pjT-DNYK474",
        "outputId": "9037c374-5fdd-48a6-86af-c418bbf6cc74"
      },
      "execution_count": null,
      "outputs": [
        {
          "output_type": "stream",
          "name": "stdout",
          "text": [
            "enter a value:11\n",
            "november\n",
            "no of days 30\n"
          ]
        }
      ]
    },
    {
      "cell_type": "code",
      "source": [
        "a=int(input('Enter loan amount: Rs'))\n",
        "b=int(input('Enter intrest rate:%'))\n",
        "c=int(input('Tenure:'))\n",
        "d=a*(12/100)\n",
        "e=d*c\n",
        "f=a+e\n",
        "g=f/(c*12)\n",
        "print (\"EMI for your loan of amount\",a,\"for\",c,\"years is rs\",g)\n",
        "\n"
      ],
      "metadata": {
        "colab": {
          "base_uri": "https://localhost:8080/"
        },
        "id": "ZBvCB4lwNLck",
        "outputId": "7974438c-d0b6-47b1-ae6c-b4ee21f34d28"
      },
      "execution_count": null,
      "outputs": [
        {
          "output_type": "stream",
          "name": "stdout",
          "text": [
            "Enter loan amount: Rs100000\n",
            "Enter intrest rate:%10\n",
            "Tenure:5\n",
            "EMI for your loan of amount 100000 for 5 years is rs 2666.6666666666665\n"
          ]
        }
      ]
    },
    {
      "cell_type": "code",
      "source": [],
      "metadata": {
        "id": "9EkIPM6ET2pc"
      },
      "execution_count": null,
      "outputs": []
    }
  ]
}
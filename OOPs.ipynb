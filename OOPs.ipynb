{
  "nbformat": 4,
  "nbformat_minor": 0,
  "metadata": {
    "colab": {
      "provenance": []
    },
    "kernelspec": {
      "name": "python3",
      "display_name": "Python 3"
    },
    "language_info": {
      "name": "python"
    }
  },
  "cells": [
    {
      "cell_type": "code",
      "source": [
        "\"\"\"\n",
        "Example1: Create a Bank account class with attributes:\n",
        "            account no,balance,username\n",
        "   methods:deposit,withdraw,display info \"\"\"\n",
        "\n",
        "class Bank:\n",
        "  def __init__(self,acc_no,balance,user_name):\n",
        "    self.acc_no=acc_no\n",
        "    self.balance=balance\n",
        "    self.user_name=user_name\n",
        "  def deposit(self,value):\n",
        "    self.balance+=value\n",
        "  def withdraw(self,value):\n",
        "    if self.balance>=value:\n",
        "      self.balance-=value\n",
        "    else:\n",
        "      print(\"insufficient balance\")\n",
        "  def display_info(self):\n",
        "    print(f\"account no:{self.acc_no},balance:{self.balance},username:{self.user_name}\")\n",
        "\n",
        "amount=Bank(1234,450,\"sonam\")\n",
        "amount.deposit(600)\n",
        "amount.display_info()"
      ],
      "metadata": {
        "colab": {
          "base_uri": "https://localhost:8080/"
        },
        "id": "MrnbiWdW0Bcx",
        "outputId": "f10e5043-8235-4c2e-a27a-0ef241071582"
      },
      "execution_count": null,
      "outputs": [
        {
          "output_type": "stream",
          "name": "stdout",
          "text": [
            "account no:1234,balance:1050,username:sonam\n"
          ]
        }
      ]
    },
    {
      "cell_type": "code",
      "source": [
        "amount.withdraw(200)\n",
        "amount.display_info()"
      ],
      "metadata": {
        "colab": {
          "base_uri": "https://localhost:8080/"
        },
        "id": "b9Q_ZyE12IWb",
        "outputId": "c29fbb31-e63a-489b-d0e8-ac239d9eb8af"
      },
      "execution_count": null,
      "outputs": [
        {
          "output_type": "stream",
          "name": "stdout",
          "text": [
            "account no:1234,balance:850,username:sonam\n"
          ]
        }
      ]
    },
    {
      "cell_type": "code",
      "source": [
        "\"\"\"\n",
        "Example2: Create a student class with attributes:\n",
        "            name,age,grades\n",
        "   methods:add_grade,display info,cal_avg \"\"\"\n",
        "class Student:\n",
        "  def __init__(self,name,age,grades):\n",
        "    self.name=name\n",
        "    self.age=age\n",
        "    self.grades=grades\n",
        "  def display_info(self):\n",
        "    print(f\"name:{self.name},age:{self.age},grades:{self.grades}\")\n",
        "  def add_grade(self,value):\n",
        "    self.grades.append(value)\n",
        "  def cal_avg(self):\n",
        "    return int(sum(self.grades)/len(self.grades))\n",
        "\n",
        "marks=Student(\"rahul\",20,[20,30,50])\n",
        "marks.display_info()\n",
        "marks.add_grade(60)\n",
        "marks.cal_avg()"
      ],
      "metadata": {
        "colab": {
          "base_uri": "https://localhost:8080/"
        },
        "id": "dP1dQy2v2cn4",
        "outputId": "eefa6b4b-d20d-463f-ca4a-33adafb6e426"
      },
      "execution_count": null,
      "outputs": [
        {
          "output_type": "stream",
          "name": "stdout",
          "text": [
            "name:rahul,age:20,grades:[20, 30, 50]\n"
          ]
        },
        {
          "output_type": "execute_result",
          "data": {
            "text/plain": [
              "40"
            ]
          },
          "metadata": {},
          "execution_count": 38
        }
      ]
    },
    {
      "cell_type": "code",
      "source": [
        "\"\"\"\n",
        "Example3: Create a Vehicle class with attributes:\n",
        "            color,wheels,speed\n",
        "   methods:accelerate,brake,display info \"\"\"\n",
        "\n",
        "class Vehicle:\n",
        "  def __init__(self,color,wheels,speed):\n",
        "    self.color=color\n",
        "    self.wheels=wheels\n",
        "    self.speed=speed\n",
        "  def accelarete(self):\n",
        "    self.speed+=10\n",
        "  def brake(self):\n",
        "    self.speed-=10\n",
        "  def display_info(self):\n",
        "    print(f\"color:{self.color},wheels:{self.wheels},speed:{self.speed}\")\n",
        "car=Vehicle(\"red\",4,500)\n",
        "car.accelarete()\n",
        "car.display_info()\n"
      ],
      "metadata": {
        "colab": {
          "base_uri": "https://localhost:8080/"
        },
        "id": "Hz2mB7jO9oeX",
        "outputId": "4212a1a8-a394-44eb-b86a-d330b6b7a3e1"
      },
      "execution_count": null,
      "outputs": [
        {
          "output_type": "stream",
          "name": "stdout",
          "text": [
            "color:red,wheels:4,speed:510\n"
          ]
        }
      ]
    },
    {
      "cell_type": "code",
      "source": [],
      "metadata": {
        "id": "n0jth2c08aS9"
      },
      "execution_count": null,
      "outputs": []
    }
  ]
}
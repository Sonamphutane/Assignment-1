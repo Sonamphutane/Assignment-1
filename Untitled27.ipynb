{
  "nbformat": 4,
  "nbformat_minor": 0,
  "metadata": {
    "colab": {
      "provenance": []
    },
    "kernelspec": {
      "name": "python3",
      "display_name": "Python 3"
    },
    "language_info": {
      "name": "python"
    }
  },
  "cells": [
    {
      "cell_type": "code",
      "execution_count": null,
      "metadata": {
        "colab": {
          "base_uri": "https://localhost:8080/"
        },
        "id": "UkOXKJwyEjmy",
        "outputId": "a0f1a856-49ce-47bf-b24b-464031acbe16"
      },
      "outputs": [
        {
          "output_type": "stream",
          "name": "stdout",
          "text": [
            "name:sonam,age:23,salary;23000\n"
          ]
        }
      ],
      "source": [
        "\n",
        "\"\"\" Employee Class_:\n",
        "    - Create an Employee class with attributes: name, age, and salary.\n",
        "    - Methods: display_info, increase_salary, and calculate_annual_salary\"\"\"\n",
        "class Employee:\n",
        "  def __init__(self,name,age,salary):\n",
        "    self.name=name\n",
        "    self.age=age\n",
        "    self.salary=salary\n",
        "  def display_info(self):\n",
        "    print(f\"name:{self.name},age:{self.age},salary;{self.salary}\")\n",
        "  def increase_salary(self,value):\n",
        "    self.salary+=value\n",
        "  def calculate_annual_salary(self):\n",
        "    return self.salary*12\n",
        "\n",
        "Salary=Employee(\"sonam\",23,20000)\n",
        "Salary.increase_salary(3000)\n",
        "Salary.calculate_annual_salary()\n",
        "Salary.display_info()"
      ]
    },
    {
      "cell_type": "code",
      "source": [
        "\n",
        "\"\"\"Rectangle and Square Classes_:\n",
        "    - Create a Rectangle class with attributes: length and width.\n",
        "    - Methods: calculate_area and display_info.\n",
        "    - Create a Square subclass with attribute: side (inherits from Rectangle). \"\"\"\n",
        "class Rectangle:\n",
        "  def __init__(self,length,width):\n",
        "    self.length=length\n",
        "    self.width=width\n",
        "  def calculate_area(self):\n",
        "    return self.length*self.width\n",
        "  def display_info(self):\n",
        "    print(f\"length:{self.length}cm,width:{self.width}cm,area:{self.calculate_area()}sq.cm\")\n",
        "class Square(Rectangle):\n",
        "  def __init__(self,side):\n",
        "    super().__init__(side,side)\n",
        "object=Rectangle(16,17)\n",
        "object.display_info()\n",
        "sq=Square(3)\n",
        "sq.display_info()"
      ],
      "metadata": {
        "colab": {
          "base_uri": "https://localhost:8080/"
        },
        "id": "JIFZJZmwiHii",
        "outputId": "85541a87-e9f7-4958-82e1-188091f9e962"
      },
      "execution_count": null,
      "outputs": [
        {
          "output_type": "stream",
          "name": "stdout",
          "text": [
            "length:16cm,width:17cm,area:272sq.cm\n",
            "length:3cm,width:3cm,area:9sq.cm\n"
          ]
        }
      ]
    },
    {
      "cell_type": "code",
      "source": [
        "\n",
        "\"\"\"Car and ElectricCar Classes_:\n",
        "    - Create a Car class with attributes: color, wheels, and speed.\n",
        "    - Methods: accelerate, brake, and display_info.\n",
        "    - Create an ElectricCar subclass with attribute: battery_capacity (inherits from Car)\"\"\"\n",
        "class Car:\n",
        "  def __init__(self,color,wheels,speed):\n",
        "    self.color=color\n",
        "    self.wheels=wheels\n",
        "    self.speed=speed\n",
        "  def accelerate(self):\n",
        "    self.speed+=10\n",
        "  def brake(self):\n",
        "    self.speed-=10\n",
        "  def display_info(self):\n",
        "    print(f\"color:{self.color},wheels:{self.wheels},speed:{self.speed}\")\n",
        "class Electric_car(Car):\n",
        "  def __init__(self,color,wheels,speed,battery_capacity):\n",
        "    super().__init__(color,wheels,speed)\n",
        "    self.battery_capacity=battery_capacity\n",
        "  def display_info(self):\n",
        "    super().display_info()\n",
        "    print(f\"Battery_capacity:{self.battery_capacity}\")\n",
        "\n",
        "vehicle=Car(\"red\",4,120)\n",
        "vehicle.accelerate()\n",
        "vehicle.display_info()\n",
        "vehicle2=Electric_car(\"Red\",4,120,1200)\n",
        "vehicle2.brake()\n",
        "vehicle2.display_info()"
      ],
      "metadata": {
        "colab": {
          "base_uri": "https://localhost:8080/"
        },
        "id": "MEmo2FL3k9aQ",
        "outputId": "0ec19837-8453-4616-915e-801850bb0587"
      },
      "execution_count": null,
      "outputs": [
        {
          "output_type": "stream",
          "name": "stdout",
          "text": [
            "color:red,wheels:4,speed:130\n",
            "color:Red,wheels:4,speed:110\n",
            "Battery_capacity:1200\n"
          ]
        }
      ]
    }
  ]
}